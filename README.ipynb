{
 "cells": [
  {
   "cell_type": "markdown",
   "metadata": {},
   "source": [
    "# Proyecto TiendaOnline\n",
    "\n",
    "En este repositorio he creado una tienda que he llamado \"TiendaOnline\" y que está diseñada para que simule una tienda en internet. A través de una clase he ido agregando, actualizando, eliminando y consultado los productos que se me iban solicitando en el ejercicio de evaluación del módulo 1, además de calcular el valor total del inventario.\n",
    "La clase tiene una serie de métodos entre los que (como ya he hecho alusión) podemos diferenciar los siguientes:\n",
    "\n",
    "\n",
    "    - Agregar productos al inventario o actualizar la cantidad si ya existe.\n",
    "    - Ver el inventario de los productos con las claves (nombre, precio, cantidad).\n",
    "    - Buscar productos en el inventario por nombre.\n",
    "    - Actualizar el inventario añadiendo productos o modificando la cantidad de los productos que ya existen.\n",
    "    - Eliminar productos del inventario a través del nombre.\n",
    "    - Calcular el valor total del inventario\n",
    "\n",
    "Asimismo, para descargar el archivo de resolución de la clase \"TiendaOnline\" clona el repositorio a través de git clone y ejecuta el archivo que contiene la clase \"TiendaOnline\".\n"
   ]
  }
 ],
 "metadata": {
  "kernelspec": {
   "display_name": "Python 3",
   "language": "python",
   "name": "python3"
  },
  "language_info": {
   "name": "python",
   "version": "3.11.9"
  }
 },
 "nbformat": 4,
 "nbformat_minor": 2
}
