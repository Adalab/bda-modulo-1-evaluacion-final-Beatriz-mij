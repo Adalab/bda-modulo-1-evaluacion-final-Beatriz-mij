{
 "cells": [
  {
   "cell_type": "markdown",
   "metadata": {},
   "source": [
    "## Ejercicio\n",
    "\n",
    "A lo largo de esta evaluación tendrás que crear una clase llamada `TiendaOnline` que cumpla los siguientes requisitos:\n",
    "\n",
    " - La clase `TiendaOnline` debe tener los siguientes atributos:\n",
    "\n",
    "    1. `inventario` (lista de diccionarios): Un atributo para almacenar los productos en el inventario. Cada producto debe ser representado como un diccionario con las siguientes claves: `'nombre'`, `'precio'`, y `'cantidad'`. Al principio deberá ser una lista vacía. Ejemplo de como debería ser:\n",
    "\n",
    "        ```python\n",
    "            [{'nombre': 'Camisa', 'precio': 20, 'cantidad': 40},\n",
    "            {'nombre': 'Pantalón', 'precio': 30, 'cantidad': 30}]\n",
    "        ```\n",
    "\n",
    "    1. `ventas_totales` (float): Un atributo para llevar un registro de las ventas totales de la tienda. Inicializado con valor 0. \n",
    "\n",
    "  \n",
    "La clase `TiendaOnline` debe tener los siguientes métodos:\n",
    "\n",
    "1. `agregar_producto(self, nombre, precio, cantidad)`: Este método agrega un producto al inventario o actualiza su cantidad si ya existe. Debe recibir el nombre, precio y cantidad del producto como parámetros. \n",
    "\n",
    "    - Itera a través del inventario y compara los nombres de los productos con el nombre proporciona\n",
    "    - Si el producto ya existe, actualiza la cantidad.\n",
    "    - Si no existe, agrega un nuevo producto al inventario.\n",
    "\n",
    "2. `ver_inventario(self)`: Muestra el inventario de productos con sus detalles.\n",
    "\n",
    "   - Utiliza un bucle `for` para recorrer el inventario.\n",
    "   - Imprime los detalles (nombre, precio, cantidad) de cada producto.\n",
    "   - Debería verse:\n",
    "         \n",
    "        ```python\n",
    "            Nombre: Camisa, Precio: $20, Cantidad: 50\n",
    "            Nombre: Pantalón, Precio: $30, Cantidad: 30\n",
    "            Nombre: Zapatos, Precio: $50, Cantidad: 40\n",
    "            Nombre: Camisa, Precio: $20, Cantidad: 50\n",
    "        ```\n",
    "\n",
    "        3. `buscar_producto(self, nombre)`: Busca un producto en el inventario por nombre y muestra sus detalles si se encuentra. Debe recibir el nombre del producto como parámetro.\n",
    "\n",
    "    - Utiliza un bucle `for` para recorrer el inventario.\n",
    "    - Compara los nombres de los productos con el nombre proporcionado.\n",
    "    - Si se encuentra el producto, imprime sus detalles.\n",
    "    - Debe mostrar:\n",
    "\n",
    "        ```python\n",
    "        Nombre: Camisa, Precio: $20, Cantidad: 40\n",
    "        ```\n",
    "\n",
    "        1. `actualizar_stock(self, nombre, cantidad)`: Actualiza el stock de un producto en el inventario. Debe recibir el nombre del producto y la cantidad a agregar o quitar como parámetros.\n",
    "\n",
    "    - Utiliza un bucle `for` para recorrer el inventario.\n",
    "    - Busca el producto por nombre.\n",
    "    - Actualiza la cantidad según la entrada del usuario.\n",
    "    - Si el producto no esta en el inventario muestra un mensaje indicándolo.\n",
    "\n",
    "    1. `eliminar_producto(self, nombre)`: Elimina un producto del inventario por nombre. Debe recibir el nombre del producto como parámetro.\n",
    "\n",
    "    - Utiliza un bucle `for` para recorrer el inventario.\n",
    "    - Busca el producto por nombre.\n",
    "    - Elimina el producto del inventario si existe.\n",
    "    - Si el producto no esta en el inventario muestra un mensaje indicándolo. \n",
    "\n",
    "    1. `calcular_valor_inventario(self)`: Calcula y muestra el valor total del inventario.\n",
    "\n",
    "    - Utiliza un bucle for para calcular el valor total del inventario.\n",
    "    - Itera a través del inventario y suma el valor de cada producto (precio x cantidad). Es decir, calcula el valor total del inventario. Ejemplo:\n",
    "\n",
    "    ```python\n",
    "    # si tenemos 5 camisas que valen 5 euros \n",
    "    # y 10 calcetines que valen 1 euro\n",
    "    # este método te tiene que devolver: 35 euros\n",
    "\n",
    "    valor_camisas = 5 * 5\n",
    "    valor_calcetines = 10 * 1\n",
    "\n",
    "    valor_camisas + valor_calcetines = 35\n",
    "    ```"
   ]
  },
  {
   "cell_type": "code",
   "execution_count": 1,
   "metadata": {},
   "outputs": [],
   "source": [
    "class TiendaOnline:\n",
    "\n",
    "    def __init__(self):\n",
    "\n",
    "        self.inventario = []\n",
    "        self.ventas_totales = 0.0\n",
    "    \n",
    "    def agregar_producto(self, nombre, precio, cantidad):\n",
    "        producto_existente = False # variable que uso para saber si el producto ya está en el inventario\n",
    "\n",
    "        for producto in self.inventario: # iteramos sobre cada producto en el inventario\n",
    "            print(\"entré en el for\")\n",
    "            if producto[\"nombre\"] == nombre: # Si encontramos un producto con el mismo nombre\n",
    "                print(\"entré en el if de sumar cantidad\")\n",
    "        \n",
    "                producto [\"cantidad\"] += cantidad # Aumentamos la cantidad de ese producto\n",
    "                producto_existente = True # Marcamos que el producto ya existe en el inventario\n",
    "                return # Terminamos la búsqueda porque ya encontramos el producto dentro del inventario\n",
    "\n",
    "        print(\"no entré en el for\")\n",
    "        if not producto_existente:    \n",
    "            print(\"entré en el if de crear producto nuevo\")\n",
    "            # Si no existe, agrega el producto al inventario como un nuevo diccionario\n",
    "            self.inventario.append({\"nombre\": nombre, \"precio\": precio, \"cantidad\": cantidad})\n",
    "\n",
    "    def ver_inventario(self):    \n",
    "        for producto in self.inventario: # Este bucle recorre todos los elementos dentro de self.inventario. En cada iteración, \"producto\" tomará el valor de un diccionario que representa un producto.\n",
    "            nombre = producto[\"nombre\"]\n",
    "            precio = producto[\"precio\"]\n",
    "            cantidad = producto[\"cantidad\"]\n",
    "            print(f\"Nombre: {nombre}, Precio: {precio}, Cantidad: {cantidad}\") # Usamos print para mostrar los detalles de cada producto. la \"f\" es una cadena /string formateada, que nos permite incluir variables directamente dentro de una cadena de texto.\n",
    "\n",
    "    def buscar_producto (self, nombre): #Buscamos el producto por su nombre\n",
    "        encontrado = False # Creo esta variable para marcar si se encontró el producto\n",
    "        \n",
    "    # Recorremos el inventario buscando el producto\n",
    "        for producto in self.inventario:  \n",
    "            print (\"entré en el tercer for\") \n",
    "            if producto[\"nombre\"].lower() == nombre.lower():\n",
    "                print(\"encontré el producto\")\n",
    "                print(f\"Nombre: {producto['nombre']}, Precio: {producto['precio']}, Cantidad: {producto['cantidad']}\")\n",
    "                encontrado = True\n",
    "                return\n",
    "            \n",
    "        print(\"no entré en el for\")\n",
    "\n",
    "        if not encontrado:\n",
    "            print(\"no se encontró el producto\")\n",
    "            print(f\"producto {nombre}, no se ha encontrado en el inventario\")\n",
    "\n",
    "\n",
    "    def actualizar_stock(self, nombre, cantidad): # Recorremos el inventario para buscar el producto\n",
    "        for producto in self.inventario:\n",
    "            print (\"entré en el cuarto for\") \n",
    "            if producto[\"nombre\"].lower() == nombre.lower():\n",
    "                nuevo_stock = producto['cantidad'] + cantidad\n",
    "\n",
    "                if nuevo_stock >= 0: # Evito que el stock sea negativo\n",
    "                    producto['cantidad'] = nuevo_stock\n",
    "                    print(f\"stock actualizado: {producto['nombre']} ahora tiene {producto['cantidad']} unidades\")\n",
    "                \n",
    "                else:\n",
    "                    print(f\"No puedes tener un stock negativo de {producto['nombre']}\")\n",
    "                    return\n",
    "        # Si el producto no se ha encontrado en el inventario:    \n",
    "        print (f\"El producto {nombre} no se ha encontrado en el inventario\")\n",
    "\n",
    "\n",
    "    def eliminar_producto(self, nombre):\n",
    "\n",
    "        for producto in self.inventario:\n",
    "            if producto[\"nombre\"].lower() == nombre.lower():\n",
    "                self.inventario.remove(producto)\n",
    "                print(f\"El producto {nombre} ha sido eliminado del inventario\")\n",
    "                return\n",
    "        \n",
    "        print(f\"El producto {nombre} no se ha encontrado en el inventario \")\n",
    "\n",
    "    def calcular_valor_inventario (self):\n",
    "        valor_inventario = 0 #Añado una variable para almacenar el valor total y es igual a 0 porque vamos a ir sumando el valor de cada producto\n",
    "\n",
    "        for producto in self.inventario:\n",
    "            valor_inventario += producto ['precio'] * producto ['cantidad'] # Recorremos el inventario calculando el valor de cada producto multiplicando su precio por la cantidad y luego suma todos eso valores para obtener el valor total del inventario.\n",
    "\n",
    "        print (f\"El valor total del inventario es: {valor_inventario}\")\n"
   ]
  },
  {
   "cell_type": "code",
   "execution_count": 2,
   "metadata": {},
   "outputs": [],
   "source": [
    "tienda = TiendaOnline()"
   ]
  },
  {
   "cell_type": "code",
   "execution_count": 3,
   "metadata": {},
   "outputs": [
    {
     "data": {
      "text/plain": [
       "{'inventario': [], 'ventas_totales': 0.0}"
      ]
     },
     "execution_count": 3,
     "metadata": {},
     "output_type": "execute_result"
    }
   ],
   "source": [
    "tienda.__dict__"
   ]
  },
  {
   "cell_type": "code",
   "execution_count": 4,
   "metadata": {},
   "outputs": [
    {
     "name": "stdout",
     "output_type": "stream",
     "text": [
      "no entré en el for\n",
      "entré en el if de crear producto nuevo\n"
     ]
    }
   ],
   "source": [
    "tienda.agregar_producto(\"camisa\", 20, 40) # Agrega una camisa"
   ]
  },
  {
   "cell_type": "code",
   "execution_count": 5,
   "metadata": {},
   "outputs": [
    {
     "data": {
      "text/plain": [
       "[{'nombre': 'camisa', 'precio': 20, 'cantidad': 40}]"
      ]
     },
     "execution_count": 5,
     "metadata": {},
     "output_type": "execute_result"
    }
   ],
   "source": [
    "tienda.inventario"
   ]
  },
  {
   "cell_type": "code",
   "execution_count": 6,
   "metadata": {},
   "outputs": [
    {
     "name": "stdout",
     "output_type": "stream",
     "text": [
      "entré en el for\n",
      "no entré en el for\n",
      "entré en el if de crear producto nuevo\n"
     ]
    }
   ],
   "source": [
    "tienda.agregar_producto(\"pantalon\", 30, 30) # Agrega un pantalón"
   ]
  },
  {
   "cell_type": "code",
   "execution_count": 7,
   "metadata": {},
   "outputs": [
    {
     "data": {
      "text/plain": [
       "[{'nombre': 'camisa', 'precio': 20, 'cantidad': 40},\n",
       " {'nombre': 'pantalon', 'precio': 30, 'cantidad': 30}]"
      ]
     },
     "execution_count": 7,
     "metadata": {},
     "output_type": "execute_result"
    }
   ],
   "source": [
    "tienda.inventario"
   ]
  },
  {
   "cell_type": "code",
   "execution_count": 8,
   "metadata": {},
   "outputs": [
    {
     "name": "stdout",
     "output_type": "stream",
     "text": [
      "entré en el for\n",
      "entré en el if de sumar cantidad\n"
     ]
    }
   ],
   "source": [
    "tienda.agregar_producto(\"camisa\", 20, 10) # Agrega más camisas y actualiza la cantidad"
   ]
  },
  {
   "cell_type": "code",
   "execution_count": 9,
   "metadata": {},
   "outputs": [
    {
     "data": {
      "text/plain": [
       "[{'nombre': 'camisa', 'precio': 20, 'cantidad': 50},\n",
       " {'nombre': 'pantalon', 'precio': 30, 'cantidad': 30}]"
      ]
     },
     "execution_count": 9,
     "metadata": {},
     "output_type": "execute_result"
    }
   ],
   "source": [
    "tienda.inventario"
   ]
  },
  {
   "cell_type": "code",
   "execution_count": 10,
   "metadata": {},
   "outputs": [
    {
     "name": "stdout",
     "output_type": "stream",
     "text": [
      "Nombre: camisa, Precio: 20, Cantidad: 50\n",
      "Nombre: pantalon, Precio: 30, Cantidad: 30\n"
     ]
    }
   ],
   "source": [
    "tienda.ver_inventario()"
   ]
  },
  {
   "cell_type": "code",
   "execution_count": 11,
   "metadata": {},
   "outputs": [
    {
     "name": "stdout",
     "output_type": "stream",
     "text": [
      "entré en el tercer for\n",
      "encontré el producto\n",
      "Nombre: camisa, Precio: 20, Cantidad: 50\n"
     ]
    }
   ],
   "source": [
    "tienda.buscar_producto(\"camisa\")"
   ]
  },
  {
   "cell_type": "code",
   "execution_count": 12,
   "metadata": {},
   "outputs": [
    {
     "name": "stdout",
     "output_type": "stream",
     "text": [
      "entré en el tercer for\n",
      "entré en el tercer for\n",
      "no entré en el for\n",
      "no se encontró el producto\n",
      "producto cinturon, no se ha encontrado en el inventario\n"
     ]
    }
   ],
   "source": [
    "tienda.buscar_producto(\"cinturon\")"
   ]
  },
  {
   "cell_type": "code",
   "execution_count": 13,
   "metadata": {},
   "outputs": [
    {
     "name": "stdout",
     "output_type": "stream",
     "text": [
      "entré en el cuarto for\n",
      "stock actualizado: camisa ahora tiene 60 unidades\n",
      "entré en el cuarto for\n",
      "El producto camisa no se ha encontrado en el inventario\n"
     ]
    }
   ],
   "source": [
    "tienda.actualizar_stock (\"camisa\", 10) # sumo 10 camisas"
   ]
  },
  {
   "cell_type": "code",
   "execution_count": 14,
   "metadata": {},
   "outputs": [
    {
     "name": "stdout",
     "output_type": "stream",
     "text": [
      "entré en el cuarto for\n",
      "entré en el cuarto for\n",
      "stock actualizado: pantalon ahora tiene 28 unidades\n",
      "El producto pantalon no se ha encontrado en el inventario\n"
     ]
    }
   ],
   "source": [
    "tienda.actualizar_stock (\"pantalon\", -2) # resto 2 pantalones"
   ]
  },
  {
   "cell_type": "code",
   "execution_count": 15,
   "metadata": {},
   "outputs": [
    {
     "name": "stdout",
     "output_type": "stream",
     "text": [
      "entré en el cuarto for\n",
      "entré en el cuarto for\n",
      "El producto cinturon no se ha encontrado en el inventario\n"
     ]
    }
   ],
   "source": [
    "tienda.actualizar_stock (\"cinturon\", 5) # intento actualizar un producto que no está en mi inventario"
   ]
  },
  {
   "cell_type": "code",
   "execution_count": 16,
   "metadata": {},
   "outputs": [
    {
     "name": "stdout",
     "output_type": "stream",
     "text": [
      "Nombre: camisa, Precio: 20, Cantidad: 60\n",
      "Nombre: pantalon, Precio: 30, Cantidad: 28\n"
     ]
    }
   ],
   "source": [
    "tienda.ver_inventario()"
   ]
  },
  {
   "cell_type": "code",
   "execution_count": 17,
   "metadata": {},
   "outputs": [
    {
     "name": "stdout",
     "output_type": "stream",
     "text": [
      "El producto camisa ha sido eliminado del inventario\n"
     ]
    }
   ],
   "source": [
    "tienda.eliminar_producto(\"camisa\")"
   ]
  },
  {
   "cell_type": "code",
   "execution_count": 18,
   "metadata": {},
   "outputs": [
    {
     "name": "stdout",
     "output_type": "stream",
     "text": [
      "El producto cinturon no se ha encontrado en el inventario \n"
     ]
    }
   ],
   "source": [
    "tienda.eliminar_producto(\"cinturon\")"
   ]
  },
  {
   "cell_type": "code",
   "execution_count": 19,
   "metadata": {},
   "outputs": [
    {
     "name": "stdout",
     "output_type": "stream",
     "text": [
      "Nombre: pantalon, Precio: 30, Cantidad: 28\n"
     ]
    }
   ],
   "source": [
    "tienda.ver_inventario()"
   ]
  },
  {
   "cell_type": "code",
   "execution_count": 20,
   "metadata": {},
   "outputs": [
    {
     "name": "stdout",
     "output_type": "stream",
     "text": [
      "El valor total del inventario es: 840\n"
     ]
    }
   ],
   "source": [
    "tienda.calcular_valor_inventario()"
   ]
  }
 ],
 "metadata": {
  "kernelspec": {
   "display_name": "Python 3",
   "language": "python",
   "name": "python3"
  },
  "language_info": {
   "codemirror_mode": {
    "name": "ipython",
    "version": 3
   },
   "file_extension": ".py",
   "mimetype": "text/x-python",
   "name": "python",
   "nbconvert_exporter": "python",
   "pygments_lexer": "ipython3",
   "version": "3.11.9"
  }
 },
 "nbformat": 4,
 "nbformat_minor": 2
}
