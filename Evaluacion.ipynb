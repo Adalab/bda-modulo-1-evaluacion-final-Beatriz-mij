{
 "cells": [
  {
   "cell_type": "code",
   "execution_count": 1,
   "metadata": {},
   "outputs": [],
   "source": [
    "class TiendaOnline:\n",
    "\n",
    "    def __init__(self):\n",
    "\n",
    "        self.inventario = []\n",
    "        self.ventas_totales = 0.0\n",
    "    \n",
    "    def agregar_producto(self, nombre, precio, cantidad):\n",
    "        producto_existente = False # variable que uso para saber si el producto ya está en el inventario\n",
    "\n",
    "        for producto in self.inventario: # iteramos sobre cada producto en el inventario\n",
    "            print(\"entré en el for\")\n",
    "            if producto[\"nombre\"] == nombre: # Si encontramos un producto con el mismo nombre\n",
    "                print(\"entré en el if de sumar cantidad\")\n",
    "        \n",
    "                producto [\"cantidad\"] += cantidad # Aumentamos la cantidad de ese producto\n",
    "                producto_existente = True # Marcamos que el producto ya existe en el inventario\n",
    "                return # Terminamos la búsqueda porque ya encontramos el producto dentro del inventario\n",
    "\n",
    "        print(\"no entré en el for\")\n",
    "        if not producto_existente:    \n",
    "            print(\"entré en el if de crear producto nuevo\")\n",
    "            # Si no existe, agrega el producto al inventario como un nuevo diccionario\n",
    "            self.inventario.append({\"nombre\": nombre, \"precio\": precio, \"cantidad\": cantidad})\n",
    "            \n"
   ]
  },
  {
   "cell_type": "code",
   "execution_count": 2,
   "metadata": {},
   "outputs": [],
   "source": [
    "tienda = TiendaOnline()"
   ]
  },
  {
   "cell_type": "code",
   "execution_count": 3,
   "metadata": {},
   "outputs": [
    {
     "data": {
      "text/plain": [
       "{'inventario': [], 'ventas_totales': 0.0}"
      ]
     },
     "execution_count": 3,
     "metadata": {},
     "output_type": "execute_result"
    }
   ],
   "source": [
    "tienda.__dict__"
   ]
  },
  {
   "cell_type": "code",
   "execution_count": 4,
   "metadata": {},
   "outputs": [
    {
     "name": "stdout",
     "output_type": "stream",
     "text": [
      "no entré en el for\n",
      "entré en el if de crear producto nuevo\n"
     ]
    }
   ],
   "source": [
    "tienda.agregar_producto(\"camisa\", 20, 40) # Agrega una camisa"
   ]
  },
  {
   "cell_type": "code",
   "execution_count": 5,
   "metadata": {},
   "outputs": [
    {
     "data": {
      "text/plain": [
       "[{'nombre': 'camisa', 'precio': 20, 'cantidad': 40}]"
      ]
     },
     "execution_count": 5,
     "metadata": {},
     "output_type": "execute_result"
    }
   ],
   "source": [
    "tienda.inventario"
   ]
  },
  {
   "cell_type": "code",
   "execution_count": 6,
   "metadata": {},
   "outputs": [
    {
     "name": "stdout",
     "output_type": "stream",
     "text": [
      "entré en el for\n",
      "no entré en el for\n",
      "entré en el if de crear producto nuevo\n"
     ]
    }
   ],
   "source": [
    "tienda.agregar_producto(\"pantalon\", 30, 30) # Agrega un pantalón"
   ]
  },
  {
   "cell_type": "code",
   "execution_count": 7,
   "metadata": {},
   "outputs": [
    {
     "data": {
      "text/plain": [
       "[{'nombre': 'camisa', 'precio': 20, 'cantidad': 40},\n",
       " {'nombre': 'pantalon', 'precio': 30, 'cantidad': 30}]"
      ]
     },
     "execution_count": 7,
     "metadata": {},
     "output_type": "execute_result"
    }
   ],
   "source": [
    "tienda.inventario"
   ]
  },
  {
   "cell_type": "code",
   "execution_count": 8,
   "metadata": {},
   "outputs": [
    {
     "name": "stdout",
     "output_type": "stream",
     "text": [
      "entré en el for\n",
      "entré en el if de sumar cantidad\n"
     ]
    }
   ],
   "source": [
    "tienda.agregar_producto(\"camisa\", 20, 10) # Agrega más camisas y actualiza la cantidad"
   ]
  },
  {
   "cell_type": "code",
   "execution_count": 9,
   "metadata": {},
   "outputs": [
    {
     "data": {
      "text/plain": [
       "[{'nombre': 'camisa', 'precio': 20, 'cantidad': 50},\n",
       " {'nombre': 'pantalon', 'precio': 30, 'cantidad': 30}]"
      ]
     },
     "execution_count": 9,
     "metadata": {},
     "output_type": "execute_result"
    }
   ],
   "source": [
    "tienda.inventario"
   ]
  }
 ],
 "metadata": {
  "kernelspec": {
   "display_name": "Python 3",
   "language": "python",
   "name": "python3"
  },
  "language_info": {
   "codemirror_mode": {
    "name": "ipython",
    "version": 3
   },
   "file_extension": ".py",
   "mimetype": "text/x-python",
   "name": "python",
   "nbconvert_exporter": "python",
   "pygments_lexer": "ipython3",
   "version": "3.11.9"
  }
 },
 "nbformat": 4,
 "nbformat_minor": 2
}
